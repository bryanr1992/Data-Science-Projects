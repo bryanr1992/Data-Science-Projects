{
 "cells": [
  {
   "cell_type": "markdown",
   "id": "1a90d867",
   "metadata": {},
   "source": [
    "# Part 1"
   ]
  },
  {
   "cell_type": "markdown",
   "id": "5b481150",
   "metadata": {},
   "source": [
    "**a. Import the nbtrain.csv file. Use the first 9010 records as training data and the remaining 1000 records as testing data.**"
   ]
  },
  {
   "cell_type": "code",
   "execution_count": 1,
   "id": "1373e78f",
   "metadata": {},
   "outputs": [],
   "source": [
    "df = read.csv(\"/Users/bryanrivas/Desktop/bryan/data science exercises/4/nbtrain.csv\")"
   ]
  },
  {
   "cell_type": "code",
   "execution_count": 2,
   "id": "f414c8a4",
   "metadata": {},
   "outputs": [],
   "source": [
    "train <- head(df, 9010)\n",
    "test <- tail(df, 1000)"
   ]
  },
  {
   "cell_type": "code",
   "execution_count": 3,
   "id": "92758755",
   "metadata": {},
   "outputs": [
    {
     "name": "stderr",
     "output_type": "stream",
     "text": [
      "Loading required package: ggplot2\n",
      "\n",
      "Loading required package: lattice\n",
      "\n"
     ]
    }
   ],
   "source": [
    "library(caret)"
   ]
  },
  {
   "cell_type": "markdown",
   "id": "4bf8d3b3",
   "metadata": {},
   "source": [
    "### Run the cell bellow if you don't have package e1071"
   ]
  },
  {
   "cell_type": "code",
   "execution_count": 4,
   "id": "65fa259e",
   "metadata": {},
   "outputs": [
    {
     "name": "stdout",
     "output_type": "stream",
     "text": [
      "\n",
      "The downloaded binary packages are in\n",
      "\t/var/folders/66/vq3ykjx95j994mj5vw0jc58m0000gn/T//RtmpHWP7Zy/downloaded_packages\n"
     ]
    }
   ],
   "source": [
    "install.packages(\"e1071\")"
   ]
  },
  {
   "cell_type": "markdown",
   "id": "34b0f019",
   "metadata": {},
   "source": [
    "**b. Construct the Naïve Bayes classifier from the training data, according to the formula “income ~ age + sex + educ”. To do this, use the “naiveBayes” function from the “e1071” package. Provide the model’s a priori and conditional probabilities.**"
   ]
  },
  {
   "cell_type": "code",
   "execution_count": 4,
   "id": "41e566a2",
   "metadata": {},
   "outputs": [
    {
     "data": {
      "text/plain": [
       "\n",
       "Naive Bayes Classifier for Discrete Predictors\n",
       "\n",
       "Call:\n",
       "naiveBayes.default(x = X, y = Y, laplace = laplace)\n",
       "\n",
       "A-priori probabilities:\n",
       "Y\n",
       "    10-50K     50-80K     GT 80K \n",
       "0.80266371 0.12563818 0.07169811 \n",
       "\n",
       "Conditional probabilities:\n",
       "        age\n",
       "Y             20-30      31-45      GT 45\n",
       "  10-50K 0.20796460 0.34457965 0.44745575\n",
       "  50-80K 0.08303887 0.39752650 0.51943463\n",
       "  GT 80K 0.06811146 0.34055728 0.59133127\n",
       "\n",
       "        sex\n",
       "Y                F         M\n",
       "  10-50K 0.4798119 0.5201881\n",
       "  50-80K 0.2871025 0.7128975\n",
       "  GT 80K 0.2058824 0.7941176\n",
       "\n",
       "        educ\n",
       "Y           College     Others   Prof/Phd\n",
       "  10-50K 0.24585177 0.73976770 0.01438053\n",
       "  50-80K 0.49558304 0.44257951 0.06183746\n",
       "  GT 80K 0.53869969 0.29566563 0.16563467\n"
      ]
     },
     "metadata": {},
     "output_type": "display_data"
    }
   ],
   "source": [
    "library(e1071)\n",
    "bayes <- naiveBayes(as.factor(income) ~ age + sex + educ, data=train)\n",
    "bayes"
   ]
  },
  {
   "cell_type": "markdown",
   "id": "f11b0b2b",
   "metadata": {},
   "source": [
    "# A-priori probabilities\n",
    "\n",
    "- Income 10-50k = 0.8026\n",
    "- Income 50-80k 0.1256\n",
    "- Income > 80k: 0.0716"
   ]
  },
  {
   "cell_type": "markdown",
   "id": "7b3a2c99",
   "metadata": {},
   "source": [
    "# Conditional probs"
   ]
  },
  {
   "cell_type": "code",
   "execution_count": 5,
   "id": "3b50ac56",
   "metadata": {},
   "outputs": [
    {
     "data": {
      "text/plain": [
       "        age\n",
       "Y             20-30      31-45      GT 45\n",
       "  10-50K 0.20796460 0.34457965 0.44745575\n",
       "  50-80K 0.08303887 0.39752650 0.51943463\n",
       "  GT 80K 0.06811146 0.34055728 0.59133127"
      ]
     },
     "metadata": {},
     "output_type": "display_data"
    }
   ],
   "source": [
    "bayes$tables$age"
   ]
  },
  {
   "cell_type": "code",
   "execution_count": 6,
   "id": "24040089",
   "metadata": {},
   "outputs": [
    {
     "data": {
      "text/plain": [
       "        sex\n",
       "Y                F         M\n",
       "  10-50K 0.4798119 0.5201881\n",
       "  50-80K 0.2871025 0.7128975\n",
       "  GT 80K 0.2058824 0.7941176"
      ]
     },
     "metadata": {},
     "output_type": "display_data"
    }
   ],
   "source": [
    "bayes$tables$sex"
   ]
  },
  {
   "cell_type": "code",
   "execution_count": 7,
   "id": "70776596",
   "metadata": {},
   "outputs": [
    {
     "data": {
      "text/plain": [
       "        educ\n",
       "Y           College     Others   Prof/Phd\n",
       "  10-50K 0.24585177 0.73976770 0.01438053\n",
       "  50-80K 0.49558304 0.44257951 0.06183746\n",
       "  GT 80K 0.53869969 0.29566563 0.16563467"
      ]
     },
     "metadata": {},
     "output_type": "display_data"
    }
   ],
   "source": [
    "bayes$tables$educ"
   ]
  },
  {
   "cell_type": "markdown",
   "id": "bf5f6ef5",
   "metadata": {},
   "source": [
    "**c. Score the model with the testing data and create the model’s confusion matrix. Also, calculate the overall, 10-50K, 50-80K, and GT 80K misclassification rates. Explain the variation in the model’s predictive power across income classes.**"
   ]
  },
  {
   "cell_type": "code",
   "execution_count": 8,
   "id": "e9ecd8f1",
   "metadata": {},
   "outputs": [],
   "source": [
    "test_pred <- predict(bayes, test, type='class')"
   ]
  },
  {
   "cell_type": "code",
   "execution_count": 9,
   "id": "71b2a399",
   "metadata": {},
   "outputs": [
    {
     "data": {
      "text/plain": [
       "Confusion Matrix and Statistics\n",
       "\n",
       "          Reference\n",
       "Prediction 10-50K 50-80K GT 80K\n",
       "    10-50K    787    127     67\n",
       "    50-80K      0      0      0\n",
       "    GT 80K      6      5      8\n",
       "\n",
       "Overall Statistics\n",
       "                                          \n",
       "               Accuracy : 0.795           \n",
       "                 95% CI : (0.7686, 0.8196)\n",
       "    No Information Rate : 0.793           \n",
       "    P-Value [Acc > NIR] : 0.4564          \n",
       "                                          \n",
       "                  Kappa : 0.0709          \n",
       "                                          \n",
       " Mcnemar's Test P-Value : <2e-16          \n",
       "\n",
       "Statistics by Class:\n",
       "\n",
       "                     Class: 10-50K Class: 50-80K Class: GT 80K\n",
       "Sensitivity                 0.9924         0.000        0.1067\n",
       "Specificity                 0.0628         1.000        0.9881\n",
       "Pos Pred Value              0.8022           NaN        0.4211\n",
       "Neg Pred Value              0.6842         0.868        0.9317\n",
       "Prevalence                  0.7930         0.132        0.0750\n",
       "Detection Rate              0.7870         0.000        0.0080\n",
       "Detection Prevalence        0.9810         0.000        0.0190\n",
       "Balanced Accuracy           0.5276         0.500        0.5474"
      ]
     },
     "metadata": {},
     "output_type": "display_data"
    }
   ],
   "source": [
    "matrix <- confusionMatrix(test_pred, as.factor(test$income))\n",
    "matrix"
   ]
  },
  {
   "cell_type": "markdown",
   "id": "58262d4f",
   "metadata": {},
   "source": [
    "### Run the cell below if you do not have the shipunov package"
   ]
  },
  {
   "cell_type": "code",
   "execution_count": 12,
   "id": "2bf5156a",
   "metadata": {},
   "outputs": [
    {
     "name": "stderr",
     "output_type": "stream",
     "text": [
      "also installing the dependency ‘PBSmapping’\n",
      "\n",
      "\n"
     ]
    },
    {
     "name": "stdout",
     "output_type": "stream",
     "text": [
      "\n",
      "The downloaded binary packages are in\n",
      "\t/var/folders/66/vq3ykjx95j994mj5vw0jc58m0000gn/T//RtmpHWP7Zy/downloaded_packages\n"
     ]
    }
   ],
   "source": [
    "install.packages(\"shipunov\")"
   ]
  },
  {
   "cell_type": "code",
   "execution_count": 10,
   "id": "e0155605",
   "metadata": {},
   "outputs": [
    {
     "name": "stderr",
     "output_type": "stream",
     "text": [
      "package 'shipunov', version 1.17\n",
      "\n"
     ]
    },
    {
     "name": "stdout",
     "output_type": "stream",
     "text": [
      "Classification table:\n",
      "        obs\n",
      "pred     10-50K 50-80K GT 80K\n",
      "  10-50K    787    127     67\n",
      "  50-80K      0      0      0\n",
      "  GT 80K      6      5      8\n",
      "Misclassification errors (%):\n",
      "10-50K 50-80K GT 80K \n",
      "   0.8  100.0   89.3 \n",
      "Mean misclassification error: 63.4%\n"
     ]
    }
   ],
   "source": [
    "library(shipunov)\n",
    "\n",
    "Misclass(test_pred, as.factor(test$income))"
   ]
  },
  {
   "cell_type": "markdown",
   "id": "e3568756",
   "metadata": {},
   "source": [
    "The overall misclassification rate is 1 - accuracy = 0.205\n",
    "\n",
    "missclassification rates:\n",
    "\n",
    "- 10-50k missclassification rate: 0.8%\n",
    "- 50-80k missclassification rate: 100%\n",
    "- GT 80k missclassification rate: 89.3%\n",
    "\n",
    "The model's predictive power can be attributed to not having enough data to make accurate predictions on the mid income range and the highest income range. It is also worth noting our low apriori prob in the mid income and highes income range"
   ]
  },
  {
   "cell_type": "markdown",
   "id": "32d36880",
   "metadata": {},
   "source": [
    "# Part 2"
   ]
  },
  {
   "cell_type": "markdown",
   "id": "cc424519",
   "metadata": {},
   "source": [
    "**a. Construct the classifier according to the formula “sex ~ age + educ + income”, and calculate the overall, female, and male misclassification rates. Explain the misclassification rates?**"
   ]
  },
  {
   "cell_type": "code",
   "execution_count": 11,
   "id": "e27cf085",
   "metadata": {},
   "outputs": [
    {
     "data": {
      "text/plain": [
       "\n",
       "Naive Bayes Classifier for Discrete Predictors\n",
       "\n",
       "Call:\n",
       "naiveBayes.default(x = X, y = Y, laplace = laplace)\n",
       "\n",
       "A-priori probabilities:\n",
       "Y\n",
       "      F       M \n",
       "0.43596 0.56404 \n",
       "\n",
       "Conditional probabilities:\n",
       "   age\n",
       "Y       20-30     31-45     GT 45\n",
       "  F 0.1802444 0.3475051 0.4722505\n",
       "  M 0.1837859 0.3536009 0.4626131\n",
       "\n",
       "   income\n",
       "Y       10-50K     50-80K     GT 80K\n",
       "  F 0.88340122 0.08273931 0.03385947\n",
       "  M 0.74025974 0.15879575 0.10094451\n",
       "\n",
       "   educ\n",
       "Y      College     Others   Prof/Phd\n",
       "  F 0.32128310 0.65707739 0.02163951\n",
       "  M 0.28040142 0.68103109 0.03856749\n"
      ]
     },
     "metadata": {},
     "output_type": "display_data"
    }
   ],
   "source": [
    "bayes <- naiveBayes(as.factor(sex) ~ age + income + educ, data=train)\n",
    "bayes"
   ]
  },
  {
   "cell_type": "code",
   "execution_count": 12,
   "id": "5180b380",
   "metadata": {},
   "outputs": [
    {
     "data": {
      "text/plain": [
       "Confusion Matrix and Statistics\n",
       "\n",
       "          Reference\n",
       "Prediction   F   M\n",
       "         F 106  97\n",
       "         M 321 476\n",
       "                                          \n",
       "               Accuracy : 0.582           \n",
       "                 95% CI : (0.5507, 0.6128)\n",
       "    No Information Rate : 0.573           \n",
       "    P-Value [Acc > NIR] : 0.2938          \n",
       "                                          \n",
       "                  Kappa : 0.0846          \n",
       "                                          \n",
       " Mcnemar's Test P-Value : <2e-16          \n",
       "                                          \n",
       "            Sensitivity : 0.2482          \n",
       "            Specificity : 0.8307          \n",
       "         Pos Pred Value : 0.5222          \n",
       "         Neg Pred Value : 0.5972          \n",
       "             Prevalence : 0.4270          \n",
       "         Detection Rate : 0.1060          \n",
       "   Detection Prevalence : 0.2030          \n",
       "      Balanced Accuracy : 0.5395          \n",
       "                                          \n",
       "       'Positive' Class : F               \n",
       "                                          "
      ]
     },
     "metadata": {},
     "output_type": "display_data"
    }
   ],
   "source": [
    "test_pred <- predict(bayes, test, type='class')\n",
    "matrix <- confusionMatrix(test_pred, as.factor(test$sex))\n",
    "matrix"
   ]
  },
  {
   "cell_type": "code",
   "execution_count": 13,
   "id": "0b2d6c12",
   "metadata": {},
   "outputs": [
    {
     "name": "stdout",
     "output_type": "stream",
     "text": [
      "Classification table:\n",
      "    obs\n",
      "pred   F   M\n",
      "   F 106  97\n",
      "   M 321 476\n",
      "Misclassification errors (%):\n",
      "   F    M \n",
      "75.2 16.9 \n",
      "Mean misclassification error: 46.1%\n"
     ]
    }
   ],
   "source": [
    "Misclass(test_pred, as.factor(test$sex))"
   ]
  },
  {
   "cell_type": "markdown",
   "id": "ac883be1",
   "metadata": {},
   "source": [
    "Overall missclassification rate: 1 - accuracy = 0.418\n",
    "\n",
    "- male missclassification rate: 16.9%\n",
    "- female missclassification rate: 75.2%\n",
    "\n",
    "We can say that is harder to predict a female base on education, income and age. Another thing we might say is that maybe the data is not representative of the population"
   ]
  },
  {
   "cell_type": "markdown",
   "id": "d9b2c5b5",
   "metadata": {},
   "source": [
    "### Run the cell bewlo if you don't have the dplyr package"
   ]
  },
  {
   "cell_type": "code",
   "execution_count": 20,
   "id": "ec6c317f",
   "metadata": {},
   "outputs": [
    {
     "name": "stdout",
     "output_type": "stream",
     "text": [
      "\n",
      "The downloaded binary packages are in\n",
      "\t/var/folders/66/vq3ykjx95j994mj5vw0jc58m0000gn/T//RtmpHWP7Zy/downloaded_packages\n"
     ]
    }
   ],
   "source": [
    "install.packages(\"dplyr\")"
   ]
  },
  {
   "cell_type": "markdown",
   "id": "535eb456",
   "metadata": {},
   "source": [
    "**b. Divide the training data into two partitions, according to sex, and randomly select 3500 records from each partition. Reconstruct the model from part (a) from these 7000 records. Provide the model’s a priori and conditional probabilities.**"
   ]
  },
  {
   "cell_type": "code",
   "execution_count": 14,
   "id": "204f8dc2",
   "metadata": {},
   "outputs": [
    {
     "name": "stderr",
     "output_type": "stream",
     "text": [
      "\n",
      "Attaching package: ‘dplyr’\n",
      "\n",
      "\n",
      "The following objects are masked from ‘package:stats’:\n",
      "\n",
      "    filter, lag\n",
      "\n",
      "\n",
      "The following objects are masked from ‘package:base’:\n",
      "\n",
      "    intersect, setdiff, setequal, union\n",
      "\n",
      "\n"
     ]
    }
   ],
   "source": [
    "library(dplyr)"
   ]
  },
  {
   "cell_type": "code",
   "execution_count": 15,
   "id": "780d0c85",
   "metadata": {},
   "outputs": [
    {
     "data": {
      "text/plain": [
       "\n",
       "Naive Bayes Classifier for Discrete Predictors\n",
       "\n",
       "Call:\n",
       "naiveBayes.default(x = X, y = Y, laplace = laplace)\n",
       "\n",
       "A-priori probabilities:\n",
       "Y\n",
       "  F   M \n",
       "0.5 0.5 \n",
       "\n",
       "Conditional probabilities:\n",
       "   age\n",
       "Y       20-30     31-45     GT 45\n",
       "  F 0.1811429 0.3482857 0.4705714\n",
       "  M 0.1782857 0.3617143 0.4600000\n",
       "\n",
       "   income\n",
       "Y       10-50K     50-80K     GT 80K\n",
       "  F 0.88600000 0.08085714 0.03314286\n",
       "  M 0.74057143 0.16285714 0.09657143\n",
       "\n",
       "   educ\n",
       "Y      College     Others   Prof/Phd\n",
       "  F 0.32257143 0.65742857 0.02000000\n",
       "  M 0.28400000 0.67714286 0.03885714\n"
      ]
     },
     "metadata": {},
     "output_type": "display_data"
    }
   ],
   "source": [
    "#Divide the data\n",
    "female = subset(train, train$sex == 'F')\n",
    "male = subset(train, train$sex == 'M')\n",
    "\n",
    "#randomly select 355 records\n",
    "\n",
    "female = sample_n(female, 3500)\n",
    "male = sample_n(male, 3500)\n",
    "\n",
    "new_data = rbind(male,female)\n",
    "\n",
    "bayes2 <- naiveBayes(as.factor(sex) ~ age + income + educ, data=new_data)\n",
    "bayes2"
   ]
  },
  {
   "cell_type": "markdown",
   "id": "26b3cdb3",
   "metadata": {},
   "source": [
    "**c. How well does the model classify the testing data? Explain why.**"
   ]
  },
  {
   "cell_type": "code",
   "execution_count": 16,
   "id": "23de9483",
   "metadata": {},
   "outputs": [
    {
     "data": {
      "text/plain": [
       "          Reference\n",
       "Prediction   F   M\n",
       "         F 369 412\n",
       "         M  58 161"
      ]
     },
     "metadata": {},
     "output_type": "display_data"
    }
   ],
   "source": [
    "test_pred <- predict(bayes2, test, type=\"class\")\n",
    "matrix <- confusionMatrix(test_pred, as.factor(test$sex))\n",
    "matrix$table"
   ]
  },
  {
   "cell_type": "code",
   "execution_count": 17,
   "id": "e57248d3",
   "metadata": {},
   "outputs": [
    {
     "data": {
      "text/html": [
       "<strong>Accuracy:</strong> 0.53"
      ],
      "text/latex": [
       "\\textbf{Accuracy:} 0.53"
      ],
      "text/markdown": [
       "**Accuracy:** 0.53"
      ],
      "text/plain": [
       "Accuracy \n",
       "    0.53 "
      ]
     },
     "metadata": {},
     "output_type": "display_data"
    }
   ],
   "source": [
    "matrix$overall[1]"
   ]
  },
  {
   "cell_type": "markdown",
   "id": "d21119ba",
   "metadata": {},
   "source": [
    "We have an overall accuracy of 53%"
   ]
  },
  {
   "cell_type": "markdown",
   "id": "73711d36",
   "metadata": {},
   "source": [
    "**d. Repeat step (b) 4 several times. What effect does the random selection of records have on the model’s performance?**"
   ]
  },
  {
   "cell_type": "code",
   "execution_count": 18,
   "id": "632a6318",
   "metadata": {},
   "outputs": [
    {
     "data": {
      "text/plain": [
       "\n",
       "Naive Bayes Classifier for Discrete Predictors\n",
       "\n",
       "Call:\n",
       "naiveBayes.default(x = X, y = Y, laplace = laplace)\n",
       "\n",
       "A-priori probabilities:\n",
       "Y\n",
       "  F   M \n",
       "0.5 0.5 \n",
       "\n",
       "Conditional probabilities:\n",
       "   age\n",
       "Y       20-30     31-45     GT 45\n",
       "  F 0.1825714 0.3474286 0.4700000\n",
       "  M 0.1822857 0.3540000 0.4637143\n",
       "\n",
       "   income\n",
       "Y       10-50K     50-80K     GT 80K\n",
       "  F 0.88171429 0.08571429 0.03257143\n",
       "  M 0.73857143 0.15914286 0.10228571\n",
       "\n",
       "   educ\n",
       "Y      College     Others   Prof/Phd\n",
       "  F 0.32457143 0.65342857 0.02200000\n",
       "  M 0.28400000 0.67628571 0.03971429\n"
      ]
     },
     "metadata": {},
     "output_type": "display_data"
    }
   ],
   "source": [
    "#Divide the data\n",
    "female = subset(train, train$sex == 'F')\n",
    "male = subset(train, train$sex == 'M')\n",
    "\n",
    "#randomly select 355 records\n",
    "\n",
    "female = sample_n(female, 3500)\n",
    "male = sample_n(male, 3500)\n",
    "\n",
    "new_data = rbind(male,female)\n",
    "\n",
    "bayes2 <- naiveBayes(as.factor(sex) ~ age + income + educ, data=new_data)\n",
    "bayes2"
   ]
  },
  {
   "cell_type": "code",
   "execution_count": 19,
   "id": "484a9994",
   "metadata": {},
   "outputs": [
    {
     "data": {
      "text/plain": [
       "          Reference\n",
       "Prediction   F   M\n",
       "         F 369 412\n",
       "         M  58 161"
      ]
     },
     "metadata": {},
     "output_type": "display_data"
    }
   ],
   "source": [
    "test_pred <- predict(bayes2, test, type=\"class\")\n",
    "matrix <- confusionMatrix(test_pred, as.factor(test$sex))\n",
    "matrix$table"
   ]
  },
  {
   "cell_type": "code",
   "execution_count": 20,
   "id": "3cfcd7bc",
   "metadata": {},
   "outputs": [
    {
     "data": {
      "text/html": [
       "<strong>Accuracy:</strong> 0.53"
      ],
      "text/latex": [
       "\\textbf{Accuracy:} 0.53"
      ],
      "text/markdown": [
       "**Accuracy:** 0.53"
      ],
      "text/plain": [
       "Accuracy \n",
       "    0.53 "
      ]
     },
     "metadata": {},
     "output_type": "display_data"
    }
   ],
   "source": [
    "matrix$overall[1]"
   ]
  },
  {
   "cell_type": "code",
   "execution_count": 21,
   "id": "cb8d7354",
   "metadata": {},
   "outputs": [
    {
     "data": {
      "text/plain": [
       "\n",
       "Naive Bayes Classifier for Discrete Predictors\n",
       "\n",
       "Call:\n",
       "naiveBayes.default(x = X, y = Y, laplace = laplace)\n",
       "\n",
       "A-priori probabilities:\n",
       "Y\n",
       "  F   M \n",
       "0.5 0.5 \n",
       "\n",
       "Conditional probabilities:\n",
       "   age\n",
       "Y       20-30     31-45     GT 45\n",
       "  F 0.1820000 0.3465714 0.4714286\n",
       "  M 0.1868571 0.3497143 0.4634286\n",
       "\n",
       "   income\n",
       "Y      10-50K    50-80K    GT 80K\n",
       "  F 0.8860000 0.0800000 0.0340000\n",
       "  M 0.7414286 0.1585714 0.1000000\n",
       "\n",
       "   educ\n",
       "Y      College     Others   Prof/Phd\n",
       "  F 0.32171429 0.65742857 0.02085714\n",
       "  M 0.27885714 0.68171429 0.03942857\n"
      ]
     },
     "metadata": {},
     "output_type": "display_data"
    }
   ],
   "source": [
    "#Divide the data\n",
    "female = subset(train, train$sex == 'F')\n",
    "male = subset(train, train$sex == 'M')\n",
    "\n",
    "#randomly select 355 records\n",
    "\n",
    "female = sample_n(female, 3500)\n",
    "male = sample_n(male, 3500)\n",
    "\n",
    "new_data = rbind(male,female)\n",
    "\n",
    "bayes2 <- naiveBayes(as.factor(sex) ~ age + income + educ, data=new_data)\n",
    "bayes2"
   ]
  },
  {
   "cell_type": "code",
   "execution_count": 22,
   "id": "6eea1e16",
   "metadata": {},
   "outputs": [
    {
     "data": {
      "text/plain": [
       "          Reference\n",
       "Prediction   F   M\n",
       "         F 369 412\n",
       "         M  58 161"
      ]
     },
     "metadata": {},
     "output_type": "display_data"
    }
   ],
   "source": [
    "test_pred <- predict(bayes2, test, type=\"class\")\n",
    "matrix <- confusionMatrix(test_pred, as.factor(test$sex))\n",
    "matrix$table"
   ]
  },
  {
   "cell_type": "code",
   "execution_count": 23,
   "id": "1a638d2f",
   "metadata": {},
   "outputs": [
    {
     "data": {
      "text/html": [
       "<strong>Accuracy:</strong> 0.53"
      ],
      "text/latex": [
       "\\textbf{Accuracy:} 0.53"
      ],
      "text/markdown": [
       "**Accuracy:** 0.53"
      ],
      "text/plain": [
       "Accuracy \n",
       "    0.53 "
      ]
     },
     "metadata": {},
     "output_type": "display_data"
    }
   ],
   "source": [
    "matrix$overall[1]"
   ]
  },
  {
   "cell_type": "code",
   "execution_count": 24,
   "id": "63b83114",
   "metadata": {},
   "outputs": [
    {
     "data": {
      "text/plain": [
       "\n",
       "Naive Bayes Classifier for Discrete Predictors\n",
       "\n",
       "Call:\n",
       "naiveBayes.default(x = X, y = Y, laplace = laplace)\n",
       "\n",
       "A-priori probabilities:\n",
       "Y\n",
       "  F   M \n",
       "0.5 0.5 \n",
       "\n",
       "Conditional probabilities:\n",
       "   age\n",
       "Y       20-30     31-45     GT 45\n",
       "  F 0.1828571 0.3462857 0.4708571\n",
       "  M 0.1865714 0.3517143 0.4617143\n",
       "\n",
       "   income\n",
       "Y       10-50K     50-80K     GT 80K\n",
       "  F 0.88314286 0.08314286 0.03371429\n",
       "  M 0.74057143 0.16028571 0.09914286\n",
       "\n",
       "   educ\n",
       "Y      College     Others   Prof/Phd\n",
       "  F 0.32571429 0.65257143 0.02171429\n",
       "  M 0.27857143 0.68371429 0.03771429\n"
      ]
     },
     "metadata": {},
     "output_type": "display_data"
    }
   ],
   "source": [
    "#Divide the data\n",
    "female = subset(train, train$sex == 'F')\n",
    "male = subset(train, train$sex == 'M')\n",
    "\n",
    "#randomly select 355 records\n",
    "\n",
    "female = sample_n(female, 3500)\n",
    "male = sample_n(male, 3500)\n",
    "\n",
    "new_data = rbind(male,female)\n",
    "\n",
    "bayes2 <- naiveBayes(as.factor(sex) ~ age + income + educ, data=new_data)\n",
    "bayes2"
   ]
  },
  {
   "cell_type": "code",
   "execution_count": 25,
   "id": "dd3becf8",
   "metadata": {},
   "outputs": [
    {
     "data": {
      "text/plain": [
       "          Reference\n",
       "Prediction   F   M\n",
       "         F 369 412\n",
       "         M  58 161"
      ]
     },
     "metadata": {},
     "output_type": "display_data"
    }
   ],
   "source": [
    "test_pred <- predict(bayes2, test, type=\"class\")\n",
    "matrix <- confusionMatrix(test_pred, as.factor(test$sex))\n",
    "matrix$table"
   ]
  },
  {
   "cell_type": "code",
   "execution_count": 26,
   "id": "9b18414a",
   "metadata": {},
   "outputs": [
    {
     "data": {
      "text/html": [
       "<strong>Accuracy:</strong> 0.53"
      ],
      "text/latex": [
       "\\textbf{Accuracy:} 0.53"
      ],
      "text/markdown": [
       "**Accuracy:** 0.53"
      ],
      "text/plain": [
       "Accuracy \n",
       "    0.53 "
      ]
     },
     "metadata": {},
     "output_type": "display_data"
    }
   ],
   "source": [
    "matrix$overall[1]"
   ]
  },
  {
   "cell_type": "code",
   "execution_count": 27,
   "id": "132c8066",
   "metadata": {},
   "outputs": [
    {
     "data": {
      "text/plain": [
       "\n",
       "Naive Bayes Classifier for Discrete Predictors\n",
       "\n",
       "Call:\n",
       "naiveBayes.default(x = X, y = Y, laplace = laplace)\n",
       "\n",
       "A-priori probabilities:\n",
       "Y\n",
       "  F   M \n",
       "0.5 0.5 \n",
       "\n",
       "Conditional probabilities:\n",
       "   age\n",
       "Y       20-30     31-45     GT 45\n",
       "  F 0.1791429 0.3485714 0.4722857\n",
       "  M 0.1791429 0.3531429 0.4677143\n",
       "\n",
       "   income\n",
       "Y       10-50K     50-80K     GT 80K\n",
       "  F 0.88400000 0.08142857 0.03457143\n",
       "  M 0.73428571 0.16142857 0.10428571\n",
       "\n",
       "   educ\n",
       "Y      College     Others   Prof/Phd\n",
       "  F 0.32228571 0.65628571 0.02142857\n",
       "  M 0.28314286 0.67800000 0.03885714\n"
      ]
     },
     "metadata": {},
     "output_type": "display_data"
    }
   ],
   "source": [
    "#Divide the data\n",
    "female = subset(train, train$sex == 'F')\n",
    "male = subset(train, train$sex == 'M')\n",
    "\n",
    "#randomly select 355 records\n",
    "\n",
    "female = sample_n(female, 3500)\n",
    "male = sample_n(male, 3500)\n",
    "\n",
    "new_data = rbind(male,female)\n",
    "\n",
    "bayes2 <- naiveBayes(as.factor(sex) ~ age + income + educ, data=new_data)\n",
    "bayes2"
   ]
  },
  {
   "cell_type": "code",
   "execution_count": 28,
   "id": "b8555196",
   "metadata": {},
   "outputs": [
    {
     "data": {
      "text/plain": [
       "          Reference\n",
       "Prediction   F   M\n",
       "         F 369 412\n",
       "         M  58 161"
      ]
     },
     "metadata": {},
     "output_type": "display_data"
    }
   ],
   "source": [
    "test_pred <- predict(bayes2, test, type=\"class\")\n",
    "matrix <- confusionMatrix(test_pred, as.factor(test$sex))\n",
    "matrix$table"
   ]
  },
  {
   "cell_type": "code",
   "execution_count": 29,
   "id": "c42b1a8d",
   "metadata": {},
   "outputs": [
    {
     "data": {
      "text/html": [
       "<strong>Accuracy:</strong> 0.53"
      ],
      "text/latex": [
       "\\textbf{Accuracy:} 0.53"
      ],
      "text/markdown": [
       "**Accuracy:** 0.53"
      ],
      "text/plain": [
       "Accuracy \n",
       "    0.53 "
      ]
     },
     "metadata": {},
     "output_type": "display_data"
    }
   ],
   "source": [
    "matrix$overall[1]"
   ]
  },
  {
   "cell_type": "markdown",
   "id": "59910e3a",
   "metadata": {},
   "source": [
    "Random selection of records have no effects on the model's performance"
   ]
  },
  {
   "cell_type": "markdown",
   "id": "15e7df7b",
   "metadata": {},
   "source": [
    "**e. What conclusions can one draw from this exercise?**"
   ]
  },
  {
   "cell_type": "markdown",
   "id": "864ff4bb",
   "metadata": {},
   "source": [
    "### Naive conclusion:\n",
    "1. It is hard to predict sex based on education, income and age\n",
    "2. Base on the performance of the model, Naive Bayes is not the best model for this type of problem"
   ]
  },
  {
   "cell_type": "markdown",
   "id": "34e3464d",
   "metadata": {},
   "source": [
    "### More thoughtful conclusion\n",
    "\n",
    "We were trying to predict the sex of a based on income, education and age. However, we always got around 50% accuracy. This suggests that there is not a difference income among \"Males\" and \"Females\" which is why our model always had an accuracy of about 50% because it was a 50/50 chance to predict the correct sex based on our data. Hence, \"Males and Females\" earn about the same."
   ]
  },
  {
   "cell_type": "code",
   "execution_count": null,
   "id": "398e0c06",
   "metadata": {},
   "outputs": [],
   "source": []
  }
 ],
 "metadata": {
  "kernelspec": {
   "display_name": "R",
   "language": "R",
   "name": "ir"
  },
  "language_info": {
   "codemirror_mode": "r",
   "file_extension": ".r",
   "mimetype": "text/x-r-source",
   "name": "R",
   "pygments_lexer": "r",
   "version": "4.1.3"
  }
 },
 "nbformat": 4,
 "nbformat_minor": 5
}
